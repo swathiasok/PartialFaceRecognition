{
 "cells": [
  {
   "cell_type": "markdown",
   "id": "992917c0",
   "metadata": {},
   "source": [
    "## Importing Libraries"
   ]
  },
  {
   "cell_type": "code",
   "execution_count": 2,
   "id": "817c85a5",
   "metadata": {},
   "outputs": [],
   "source": [
    "import os\n",
    "import math\n",
    "import cv2\n",
    "import PIL\n",
    "import numpy as np\n",
    "import pandas as pd\n",
    "import matplotlib.pyplot as plt\n",
    "import tensorflow as tf\n",
    "import keras\n",
    "from keras.models import Sequential, Model\n",
    "from keras import layers\n",
    "from PIL import Image, ImageOps\n",
    "from keras.preprocessing import image\n",
    "from keras.preprocessing.image import ImageDataGenerator"
   ]
  },
  {
   "cell_type": "code",
   "execution_count": 3,
   "id": "2395c561",
   "metadata": {},
   "outputs": [],
   "source": [
    "import seaborn as sns\n",
    "from skimage import io"
   ]
  },
  {
   "cell_type": "code",
   "execution_count": 4,
   "id": "e9b6f193",
   "metadata": {},
   "outputs": [],
   "source": [
    "# Importing the Keras libraries and packages\n",
    "from keras.models import Sequential\n",
    "from keras.layers import Convolution2D\n",
    "from keras.layers import MaxPooling2D\n",
    "from keras.layers import Flatten\n",
    "from keras.layers import Dense,GlobalAveragePooling2D"
   ]
  },
  {
   "cell_type": "code",
   "execution_count": 5,
   "id": "d760b7b2",
   "metadata": {},
   "outputs": [],
   "source": [
    "from tensorflow.keras.models import Sequential\n",
    "from tensorflow.keras.layers import Dense\n",
    "from tensorflow.keras.layers import Dropout\n",
    "from tensorflow.keras.layers import Activation\n",
    "from tensorflow.keras.layers import Flatten\n",
    "from tensorflow.keras.layers import Conv2D\n",
    "from tensorflow.keras.layers import MaxPooling2D\n",
    "from tensorflow.keras.layers import MaxPooling3D\n",
    "from tensorflow.keras.layers import AveragePooling2D"
   ]
  },
  {
   "cell_type": "code",
   "execution_count": 21,
   "id": "540218d4",
   "metadata": {},
   "outputs": [],
   "source": [
    "from keras.preprocessing.image import ImageDataGenerator\n",
    "\n",
    "train_datagen = ImageDataGenerator(rescale = 1./255)\n",
    "\n",
    "test_datagen = ImageDataGenerator(rescale = 1./255)"
   ]
  },
  {
   "cell_type": "code",
   "execution_count": 22,
   "id": "90b51670",
   "metadata": {},
   "outputs": [],
   "source": [
    "input_size = (227, 227)"
   ]
  },
  {
   "cell_type": "code",
   "execution_count": 44,
   "id": "213f72b0",
   "metadata": {},
   "outputs": [
    {
     "name": "stdout",
     "output_type": "stream",
     "text": [
      "Found 1524 images belonging to 14 classes.\n",
      "Found 98 images belonging to 14 classes.\n",
      "32\n"
     ]
    }
   ],
   "source": [
    "training_set = train_datagen.flow_from_directory('Dataset_Face/Split/augmented_train',\n",
    "                                                 target_size = input_size,\n",
    "                                                 batch_size = 32,\n",
    "                                                 class_mode = 'categorical')\n",
    "\n",
    "test_set = test_datagen.flow_from_directory('Dataset_Face/Split/validation',\n",
    "                                            target_size = input_size,\n",
    "                                            batch_size = 32,\n",
    "                                            class_mode = 'categorical')\n",
    "\n",
    "        \n",
    "imgs, labels = next(training_set)\n",
    "print(len(imgs))"
   ]
  },
  {
   "cell_type": "code",
   "execution_count": 26,
   "id": "908d7b8f",
   "metadata": {},
   "outputs": [],
   "source": [
    "model = keras.models.Sequential([\n",
    "    keras.layers.Conv2D(filters=96, kernel_size=(11,11), strides=(4,4), activation='relu', input_shape=(227,227,3)),\n",
    "    keras.layers.BatchNormalization(),\n",
    "    keras.layers.MaxPool2D(pool_size=(3,3), strides=(2,2)),\n",
    "    keras.layers.Conv2D(filters=256, kernel_size=(5,5), strides=(1,1), activation='relu', padding=\"same\"),\n",
    "    keras.layers.BatchNormalization(),\n",
    "    keras.layers.MaxPool2D(pool_size=(3,3), strides=(2,2)),\n",
    "    keras.layers.Conv2D(filters=384, kernel_size=(3,3), strides=(1,1), activation='relu', padding=\"same\"),\n",
    "    keras.layers.BatchNormalization(),\n",
    "    keras.layers.Conv2D(filters=384, kernel_size=(3,3), strides=(1,1), activation='relu', padding=\"same\"),\n",
    "    keras.layers.BatchNormalization(),\n",
    "    keras.layers.Conv2D(filters=256, kernel_size=(3,3), strides=(1,1), activation='relu', padding=\"same\"),\n",
    "    keras.layers.BatchNormalization(),\n",
    "    keras.layers.MaxPool2D(pool_size=(3,3), strides=(2,2)),\n",
    "    keras.layers.Flatten(),\n",
    "    keras.layers.Dense(4096, activation='relu'),\n",
    "    keras.layers.Dropout(0.5),\n",
    "    keras.layers.Dense(4096, activation='relu'),\n",
    "    keras.layers.Dropout(0.5),\n",
    "    keras.layers.Dense(14, activation='softmax')\n",
    "])"
   ]
  },
  {
   "cell_type": "code",
   "execution_count": 27,
   "id": "a8deea2b",
   "metadata": {},
   "outputs": [
    {
     "name": "stdout",
     "output_type": "stream",
     "text": [
      "Model: \"sequential\"\n",
      "_________________________________________________________________\n",
      "Layer (type)                 Output Shape              Param #   \n",
      "=================================================================\n",
      "conv2d (Conv2D)              (None, 55, 55, 96)        34944     \n",
      "_________________________________________________________________\n",
      "batch_normalization (BatchNo (None, 55, 55, 96)        384       \n",
      "_________________________________________________________________\n",
      "max_pooling2d (MaxPooling2D) (None, 27, 27, 96)        0         \n",
      "_________________________________________________________________\n",
      "conv2d_1 (Conv2D)            (None, 27, 27, 256)       614656    \n",
      "_________________________________________________________________\n",
      "batch_normalization_1 (Batch (None, 27, 27, 256)       1024      \n",
      "_________________________________________________________________\n",
      "max_pooling2d_1 (MaxPooling2 (None, 13, 13, 256)       0         \n",
      "_________________________________________________________________\n",
      "conv2d_2 (Conv2D)            (None, 13, 13, 384)       885120    \n",
      "_________________________________________________________________\n",
      "batch_normalization_2 (Batch (None, 13, 13, 384)       1536      \n",
      "_________________________________________________________________\n",
      "conv2d_3 (Conv2D)            (None, 13, 13, 384)       1327488   \n",
      "_________________________________________________________________\n",
      "batch_normalization_3 (Batch (None, 13, 13, 384)       1536      \n",
      "_________________________________________________________________\n",
      "conv2d_4 (Conv2D)            (None, 13, 13, 256)       884992    \n",
      "_________________________________________________________________\n",
      "batch_normalization_4 (Batch (None, 13, 13, 256)       1024      \n",
      "_________________________________________________________________\n",
      "max_pooling2d_2 (MaxPooling2 (None, 6, 6, 256)         0         \n",
      "_________________________________________________________________\n",
      "flatten (Flatten)            (None, 9216)              0         \n",
      "_________________________________________________________________\n",
      "dense (Dense)                (None, 4096)              37752832  \n",
      "_________________________________________________________________\n",
      "dropout (Dropout)            (None, 4096)              0         \n",
      "_________________________________________________________________\n",
      "dense_1 (Dense)              (None, 4096)              16781312  \n",
      "_________________________________________________________________\n",
      "dropout_1 (Dropout)          (None, 4096)              0         \n",
      "_________________________________________________________________\n",
      "dense_2 (Dense)              (None, 14)                57358     \n",
      "=================================================================\n",
      "Total params: 58,344,206\n",
      "Trainable params: 58,341,454\n",
      "Non-trainable params: 2,752\n",
      "_________________________________________________________________\n"
     ]
    }
   ],
   "source": [
    "model.compile(loss='categorical_crossentropy', optimizer=tf.optimizers.SGD(lr=0.001), metrics=['accuracy'])\n",
    "model.summary()"
   ]
  },
  {
   "cell_type": "code",
   "execution_count": 28,
   "id": "1c3ef629",
   "metadata": {},
   "outputs": [
    {
     "name": "stdout",
     "output_type": "stream",
     "text": [
      "Epoch 1/25\n",
      "48/48 [==============================] - 192s 4s/step - loss: 4.2467 - accuracy: 0.1470 - val_loss: 2.6662 - val_accuracy: 0.0612\n",
      "Epoch 2/25\n",
      "48/48 [==============================] - 180s 4s/step - loss: 3.2088 - accuracy: 0.1936 - val_loss: 2.6948 - val_accuracy: 0.0612\n",
      "Epoch 3/25\n",
      "48/48 [==============================] - 158s 3s/step - loss: 2.8182 - accuracy: 0.2539 - val_loss: 2.7634 - val_accuracy: 0.0510\n",
      "Epoch 4/25\n",
      "48/48 [==============================] - 150s 3s/step - loss: 2.4846 - accuracy: 0.2999 - val_loss: 2.8020 - val_accuracy: 0.1020\n",
      "Epoch 5/25\n",
      "48/48 [==============================] - 152s 3s/step - loss: 2.2152 - accuracy: 0.3346 - val_loss: 2.8034 - val_accuracy: 0.1224\n",
      "Epoch 6/25\n",
      "48/48 [==============================] - 149s 3s/step - loss: 1.9889 - accuracy: 0.3917 - val_loss: 2.7358 - val_accuracy: 0.1327\n",
      "Epoch 7/25\n",
      "48/48 [==============================] - 150s 3s/step - loss: 1.9013 - accuracy: 0.4134 - val_loss: 2.6648 - val_accuracy: 0.1633\n",
      "Epoch 8/25\n",
      "48/48 [==============================] - 149s 3s/step - loss: 1.6760 - accuracy: 0.4869 - val_loss: 2.5322 - val_accuracy: 0.2143\n",
      "Epoch 9/25\n",
      "48/48 [==============================] - 149s 3s/step - loss: 1.5106 - accuracy: 0.5282 - val_loss: 2.4643 - val_accuracy: 0.2449\n",
      "Epoch 10/25\n",
      "48/48 [==============================] - 148s 3s/step - loss: 1.4811 - accuracy: 0.5295 - val_loss: 2.4084 - val_accuracy: 0.2551\n",
      "Epoch 11/25\n",
      "48/48 [==============================] - 149s 3s/step - loss: 1.3271 - accuracy: 0.5879 - val_loss: 2.3137 - val_accuracy: 0.2755\n",
      "Epoch 12/25\n",
      "48/48 [==============================] - 153s 3s/step - loss: 1.2874 - accuracy: 0.5919 - val_loss: 2.3424 - val_accuracy: 0.2653\n",
      "Epoch 13/25\n",
      "48/48 [==============================] - 151s 3s/step - loss: 1.2072 - accuracy: 0.6155 - val_loss: 2.2715 - val_accuracy: 0.2857\n",
      "Epoch 14/25\n",
      "48/48 [==============================] - 155s 3s/step - loss: 1.1180 - accuracy: 0.6483 - val_loss: 2.2830 - val_accuracy: 0.2449\n",
      "Epoch 15/25\n",
      "48/48 [==============================] - 152s 3s/step - loss: 1.0722 - accuracy: 0.6601 - val_loss: 2.3164 - val_accuracy: 0.2653\n",
      "Epoch 16/25\n",
      "48/48 [==============================] - 137s 3s/step - loss: 0.9806 - accuracy: 0.6785 - val_loss: 2.2976 - val_accuracy: 0.2959\n",
      "Epoch 17/25\n",
      "48/48 [==============================] - 121s 3s/step - loss: 0.9321 - accuracy: 0.7047 - val_loss: 2.3823 - val_accuracy: 0.2449\n",
      "Epoch 18/25\n",
      "48/48 [==============================] - 124s 3s/step - loss: 0.8523 - accuracy: 0.7310 - val_loss: 2.3222 - val_accuracy: 0.2959\n",
      "Epoch 19/25\n",
      "48/48 [==============================] - 122s 3s/step - loss: 0.8271 - accuracy: 0.7231 - val_loss: 2.2212 - val_accuracy: 0.2755\n",
      "Epoch 20/25\n",
      "48/48 [==============================] - 121s 3s/step - loss: 0.7770 - accuracy: 0.7592 - val_loss: 2.2218 - val_accuracy: 0.3469\n",
      "Epoch 21/25\n",
      "48/48 [==============================] - 122s 3s/step - loss: 0.7259 - accuracy: 0.7703 - val_loss: 2.1841 - val_accuracy: 0.3367\n",
      "Epoch 22/25\n",
      "48/48 [==============================] - 123s 3s/step - loss: 0.6642 - accuracy: 0.7907 - val_loss: 2.2358 - val_accuracy: 0.3163\n",
      "Epoch 23/25\n",
      "48/48 [==============================] - 126s 3s/step - loss: 0.6471 - accuracy: 0.7953 - val_loss: 2.2505 - val_accuracy: 0.2959\n",
      "Epoch 24/25\n",
      "48/48 [==============================] - 126s 3s/step - loss: 0.6063 - accuracy: 0.8064 - val_loss: 2.1503 - val_accuracy: 0.2959\n",
      "Epoch 25/25\n",
      "48/48 [==============================] - 123s 3s/step - loss: 0.5530 - accuracy: 0.8333 - val_loss: 2.2185 - val_accuracy: 0.3163\n"
     ]
    }
   ],
   "source": [
    "history = model.fit(training_set,\n",
    "          epochs=25,\n",
    "          validation_data=test_set)"
   ]
  },
  {
   "cell_type": "code",
   "execution_count": 30,
   "id": "c10bf19e",
   "metadata": {},
   "outputs": [],
   "source": [
    "model.save('Models/alexnet_model.h5')"
   ]
  },
  {
   "cell_type": "code",
   "execution_count": 34,
   "id": "5324e375",
   "metadata": {},
   "outputs": [
    {
     "name": "stdout",
     "output_type": "stream",
     "text": [
      "dict_keys(['loss', 'accuracy', 'val_loss', 'val_accuracy'])\n"
     ]
    },
    {
     "data": {
      "image/png": "[encoded data removed]",
      "text/plain": [
       "<Figure size 432x288 with 1 Axes>"
      ]
     },
     "metadata": {
      "needs_background": "light"
     },
     "output_type": "display_data"
    },
    {
     "data": {
      "image/png": "[encoded data removed]",
      "text/plain": [
       "<Figure size 432x288 with 1 Axes>"
      ]
     },
     "metadata": {
      "needs_background": "light"
     },
     "output_type": "display_data"
    }
   ],
   "source": [
    "#list all data in history\n",
    "print(history.history.keys())\n",
    "# summarize history for accuracy\n",
    "plt.plot(history.history['accuracy'])\n",
    "plt.plot(history.history['val_accuracy'])\n",
    "plt.title('model accuracy')\n",
    "plt.ylabel('accuracy')\n",
    "plt.xlabel('epoch')\n",
    "plt.legend(['train', 'test'], loc='upper left')\n",
    "plt.show()\n",
    "# summarize history for loss\n",
    "plt.plot(history.history['loss'])\n",
    "plt.plot(history.history['val_loss'])\n",
    "plt.title('model loss')\n",
    "plt.ylabel('loss')\n",
    "plt.xlabel('epoch')\n",
    "plt.legend(['train', 'test'], loc='upper left')\n",
    "plt.show()"
   ]
  },
  {
   "cell_type": "code",
   "execution_count": 35,
   "id": "bd16d3e0",
   "metadata": {},
   "outputs": [
    {
     "data": {
      "text/plain": [
       "0.8333333134651184"
      ]
     },
     "execution_count": 35,
     "metadata": {},
     "output_type": "execute_result"
    }
   ],
   "source": [
    "best_train_accuracy = history.history['accuracy'][np.argmin(history.history['loss'])]\n",
    "best_train_accuracy"
   ]
  },
  {
   "cell_type": "code",
   "execution_count": 36,
   "id": "ffd4ce2e",
   "metadata": {},
   "outputs": [
    {
     "data": {
      "text/plain": [
       "0.8333333134651184"
      ]
     },
     "execution_count": 36,
     "metadata": {},
     "output_type": "execute_result"
    }
   ],
   "source": [
    "max(history.history['accuracy'])"
   ]
  },
  {
   "cell_type": "code",
   "execution_count": 37,
   "id": "6dc0fa37",
   "metadata": {},
   "outputs": [
    {
     "data": {
      "text/plain": [
       "0.29591837525367737"
      ]
     },
     "execution_count": 37,
     "metadata": {},
     "output_type": "execute_result"
    }
   ],
   "source": [
    "best_test_accuracy = history.history['val_accuracy'][np.argmin(history.history['val_loss'])]\n",
    "best_test_accuracy"
   ]
  },
  {
   "cell_type": "code",
   "execution_count": 38,
   "id": "32e68e40",
   "metadata": {},
   "outputs": [
    {
     "data": {
      "text/plain": [
       "0.3469387888908386"
      ]
     },
     "execution_count": 38,
     "metadata": {},
     "output_type": "execute_result"
    }
   ],
   "source": [
    "max(history.history['val_accuracy'])"
   ]
  }
 ],
 "metadata": {
  "kernelspec": {
   "display_name": "Python 3 (ipykernel)",
   "language": "python",
   "name": "python3"
  },
  "language_info": {
   "codemirror_mode": {
    "name": "ipython",
    "version": 3
   },
   "file_extension": ".py",
   "mimetype": "text/x-python",
   "name": "python",
   "nbconvert_exporter": "python",
   "pygments_lexer": "ipython3",
   "version": "3.7.12"
  }
 },
 "nbformat": 4,
 "nbformat_minor": 5
}
